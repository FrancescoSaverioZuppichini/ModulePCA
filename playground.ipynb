{
 "cells": [
  {
   "cell_type": "markdown",
   "metadata": {},
   "source": [
    "# Playground\n",
    "\n",
    "Used for testing on the fly new features"
   ]
  },
  {
   "cell_type": "code",
   "execution_count": 1,
   "metadata": {},
   "outputs": [],
   "source": [
    "%load_ext autoreload\n",
    "%autoreload 2\n",
    "%matplotlib notebook"
   ]
  },
  {
   "cell_type": "code",
   "execution_count": 2,
   "metadata": {
    "scrolled": true
   },
   "outputs": [],
   "source": [
    "import matplotlib.pyplot as plt\n",
    "import torch.nn as nn\n",
    "\n",
    "from torchvision.transforms import ToTensor\n",
    "from torchvision.models import resnet18\n",
    "from torch.utils.data import DataLoader\n",
    "from torchvision.datasets import MNIST\n",
    "from PytorchModulePCA import PytorchModulePCA\n",
    "from PytorchModulePCA.utils import torch_img2numpy_img\n",
    "from fastai.vision import *\n",
    "from fastai.layers import simple_cnn\n",
    "from torchvision.utils import make_grid\n",
    "\n",
    "device = torch.device('cuda' if torch.cuda.is_available() else 'cpu')\n",
    "TRAIN = False\n",
    "\n",
    "train_ds = MNIST(root='~/Documents/datasets/', download=True, transform=ToTensor())\n",
    "train_dl = DataLoader(train_ds, num_workers=14, batch_size=128, shuffle=True)\n",
    "test_ds = MNIST(root='~/Documents/datasets/', download=True, transform=ToTensor(), train=False)\n",
    "test_dl = DataLoader(test_ds, num_workers=14, batch_size=128, shuffle=False, drop_last=True)\n",
    "# data = ImageDataBunch(train_dl, test_dl) # create DataBunch\n"
   ]
  },
  {
   "cell_type": "code",
   "execution_count": 3,
   "metadata": {},
   "outputs": [],
   "source": [
    "class Autoencoder(nn.Module):\n",
    "    def __init__(self):\n",
    "        super(Autoencoder,self).__init__()\n",
    "        \n",
    "        self.encoder = nn.Sequential(\n",
    "            nn.Conv2d(1, 32, kernel_size=3),\n",
    "            nn.LeakyReLU(True),\n",
    "            nn.Conv2d(32,16,kernel_size=3),\n",
    "            )\n",
    "        \n",
    "        self.decoder = nn.Sequential(             \n",
    "            nn.ConvTranspose2d(16,32,kernel_size=3),\n",
    "            nn.LeakyReLU(True),\n",
    "            nn.ConvTranspose2d(32,1,kernel_size=3),\n",
    "            nn.LeakyReLU(True),\n",
    "            nn.Sigmoid())\n",
    "        \n",
    "    def forward(self,x):\n",
    "        x = self.encoder(x)\n",
    "        x = self.decoder(x)\n",
    "        return x\n",
    "    \n",
    "model = Autoencoder()"
   ]
  },
  {
   "cell_type": "code",
   "execution_count": null,
   "metadata": {},
   "outputs": [
    {
     "data": {
      "application/vnd.jupyter.widget-view+json": {
       "model_id": "571b9b415e154cc9a15919446f7d12bd",
       "version_major": 2,
       "version_minor": 0
      },
      "text/plain": [
       "HBox(children=(IntProgress(value=0, max=10), HTML(value='')))"
      ]
     },
     "metadata": {},
     "output_type": "display_data"
    }
   ],
   "source": [
    "from tqdm import tqdm_notebook as tqdm\n",
    "model = Autoencoder().to(device)\n",
    "\n",
    "PATH = './autoencoder-mnist.pth'\n",
    "criterion = nn.MSELoss()\n",
    "optimizer = torch.optim.Adam(model.parameters(),weight_decay=1e-5, lr=0.001)\n",
    "num_epochs = 10\n",
    "\n",
    "bar = tqdm(range(num_epochs))\n",
    "for epoch in bar:\n",
    "    for data in train_dl:\n",
    "        x, _ = data\n",
    "        x = x.to(device)\n",
    "        \n",
    "        output = model(x)\n",
    "        loss = criterion(output, x)\n",
    "\n",
    "        optimizer.zero_grad()\n",
    "        loss.backward()\n",
    "        optimizer.step()\n",
    "\n",
    "    bar.set_description('epoch [{}/{}], loss:{:.4f}'.format(epoch+1, num_epochs, loss.item()))\n",
    "    \n",
    "torch.save(model.state_dict(), PATH)\n"
   ]
  },
  {
   "cell_type": "code",
   "execution_count": null,
   "metadata": {},
   "outputs": [],
   "source": [
    "model.load_state_dict(torch.load(PATH))\n",
    "model"
   ]
  },
  {
   "cell_type": "code",
   "execution_count": null,
   "metadata": {
    "scrolled": false
   },
   "outputs": [],
   "source": [
    "# learn.load('./mnist-simple')\n",
    "\n",
    "# model = learn.model\n",
    "last_conv_layer = model.encoder[2] # get the last conv layer\n",
    "print(last_conv_layer)\n",
    "\n",
    "def show(img):\n",
    "    npimg = img.numpy()\n",
    "    plt.imshow(np.transpose(npimg, (1,2,0)), interpolation='nearest')\n",
    "    \n",
    "module_pca = PytorchModulePCA(model.eval(), last_conv_layer.eval(), test_dl)\n",
    "module_pca(k=4, n_batches=None) # run only on 4 batches\n",
    "# module_pca.plot() # plot\n",
    "# module_pca.annotate()\n",
    "# plt.savefig('./images/example')\n",
    "# df = module_pca.state.to_df() # get the points as pandas df\n",
    "# print(df)"
   ]
  },
  {
   "cell_type": "code",
   "execution_count": null,
   "metadata": {
    "scrolled": false
   },
   "outputs": [],
   "source": [
    "imgs, img, info = module_pca.query(1, 8*8, numpy=False)\n",
    "_, dist = info\n",
    "\n",
    "fig = plt.figure()\n",
    "plt.title('Original')\n",
    "show(make_grid(img))"
   ]
  },
  {
   "cell_type": "code",
   "execution_count": null,
   "metadata": {
    "scrolled": false
   },
   "outputs": [],
   "source": [
    "fig = plt.figure()\n",
    "plt.title('Similar images')\n",
    "show(make_grid(imgs))\n",
    "print(dist)"
   ]
  },
  {
   "cell_type": "code",
   "execution_count": null,
   "metadata": {},
   "outputs": [],
   "source": []
  }
 ],
 "metadata": {
  "kernelspec": {
   "display_name": "Python 3",
   "language": "python",
   "name": "python3"
  },
  "language_info": {
   "codemirror_mode": {
    "name": "ipython",
    "version": 3
   },
   "file_extension": ".py",
   "mimetype": "text/x-python",
   "name": "python",
   "nbconvert_exporter": "python",
   "pygments_lexer": "ipython3",
   "version": "3.7.3"
  }
 },
 "nbformat": 4,
 "nbformat_minor": 2
}
