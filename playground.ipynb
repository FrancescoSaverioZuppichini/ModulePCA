{
 "cells": [
  {
   "cell_type": "markdown",
   "metadata": {},
   "source": [
    "# Playground\n",
    "\n",
    "Used for testing on the fly new features"
   ]
  },
  {
   "cell_type": "code",
   "execution_count": 1,
   "metadata": {},
   "outputs": [],
   "source": [
    "%load_ext autoreload\n",
    "%autoreload 2"
   ]
  },
  {
   "cell_type": "code",
   "execution_count": 36,
   "metadata": {
    "scrolled": true
   },
   "outputs": [],
   "source": [
    "import matplotlib.pyplot as plt\n",
    "\n",
    "from torchvision.transforms import ToTensor\n",
    "from torchvision.models import resnet18\n",
    "from torch.utils.data import DataLoader\n",
    "from torchvision.datasets import MNIST\n",
    "from PytorchModulePCA import PytorchModulePCA\n",
    "from fastai.vision import *\n",
    "from fastai.layers import simple_cnn\n",
    "\n",
    "TRAIN = False\n",
    "\n",
    "train_ds = MNIST(root='~/Documents/datasets/', download=True, transform=ToTensor())\n",
    "train_dl = DataLoader(train_ds, num_workers=14, batch_size=128, shuffle=True)\n",
    "test_ds = MNIST(root='~/Documents/datasets/', download=True, transform=ToTensor(), train=False)\n",
    "test_dl = DataLoader(test_ds, num_workers=14, batch_size=128, shuffle=False)\n",
    "\n",
    "data = ImageDataBunch(train_dl, test_dl) # create DataBunch\n",
    "\n",
    "model = simple_cnn((1, 16, 32, 10)).cuda() # a random model"
   ]
  },
  {
   "cell_type": "code",
   "execution_count": 37,
   "metadata": {},
   "outputs": [],
   "source": [
    "learn = Learner(data, model, path='./', loss_func=CrossEntropyFlat())\n",
    "learn.metrics=[accuracy]\n",
    "# train and store\n",
    "if TRAIN:\n",
    "    learn.fit(10, lr=1e-03)\n",
    "    learn.save('mnist-simple', return_path=True)"
   ]
  },
  {
   "cell_type": "code",
   "execution_count": 79,
   "metadata": {
    "scrolled": true
   },
   "outputs": [
    {
     "data": {
      "application/vnd.jupyter.widget-view+json": {
       "model_id": "74675943e6094083a9625deca7d35aa0",
       "version_major": 2,
       "version_minor": 0
      },
      "text/plain": [
       "HBox(children=(IntProgress(value=1, bar_style='info', max=1), HTML(value='')))"
      ]
     },
     "metadata": {},
     "output_type": "display_data"
    },
    {
     "name": "stdout",
     "output_type": "stream",
     "text": [
      "\n",
      "           points_0    points_1    points_2    points_3   points_4  \\\n",
      "indices                                                              \n",
      "0        -91.521240   53.242428  -61.389366  -22.779617  45.185722   \n",
      "1         47.350002 -168.253448  -22.807234   -0.183295 -42.423176   \n",
      "2       -130.872528  -79.828278  -42.446507    2.549332 -24.968752   \n",
      "3         64.927498  -24.944941   53.329926   76.857300  67.908936   \n",
      "4        -14.285883   13.938684   24.611818 -104.229637  47.068760   \n",
      "5       -134.777618  -61.850677  -61.563400   33.364231 -18.772676   \n",
      "6          3.496940   57.236794   34.247627   -5.531485   6.663450   \n",
      "7        -35.232468   51.734131   41.929054  -30.687901 -27.221844   \n",
      "8         41.691612  -43.532780  -37.660072  -83.545441  25.420570   \n",
      "9        -22.858402  102.794357   67.628235  103.337296  22.705271   \n",
      "10       115.410004 -154.848419  -39.280640  -38.553352  59.210217   \n",
      "11        31.998203  -85.924500   59.203789  -10.146079  24.515236   \n",
      "12       -49.699047   86.340080   65.077591   44.710732   0.250103   \n",
      "13        44.116734  -47.776039   57.629593   59.121574  49.503590   \n",
      "14      -114.306412  -89.650803   -7.218286   27.083168 -38.483681   \n",
      "15        67.536255  -75.541550   -0.420402  -13.808519 -23.158876   \n",
      "16       -17.324249   67.210365   26.410944  -10.448636  33.112900   \n",
      "17       -36.423885   70.632401  -80.971931  -39.855042  47.171703   \n",
      "18       125.135651   -6.890014   11.548919   30.317760 -42.926651   \n",
      "19       -51.851151   49.975460   40.239422  -31.837072  -4.567673   \n",
      "20       -48.280228  104.994820   20.094820  111.293991   4.541839   \n",
      "21        76.560394  -22.878130  131.210693   -1.179229 -23.481125   \n",
      "22       -10.778058  -30.667736   42.360191  -48.267475  27.121025   \n",
      "23        37.535862  -37.541946   -0.705413  -30.689602 -56.440807   \n",
      "24       -47.335606    9.188774   24.045357  -96.682884  -4.846666   \n",
      "25       120.379417 -123.773178   29.678162   44.680695  97.434654   \n",
      "26       -52.691372   63.541027  -39.899979  -64.962433  37.523716   \n",
      "27        14.729969   60.506943   71.119400  -56.278244  10.032736   \n",
      "28       126.610855  -48.949261    0.844794   96.279800  56.699284   \n",
      "29      -101.549942  -64.484322   -1.469604    1.233997 -37.164314   \n",
      "...             ...         ...         ...         ...        ...   \n",
      "1250     -63.657932  -89.747940  -23.462845   47.887688  23.573490   \n",
      "1251      18.553272  -35.804863   83.647491   32.776230 -18.260777   \n",
      "1252      87.644180   30.025566   72.759048  -27.403412   7.064727   \n",
      "1253     -15.044430   29.173149   66.737816    5.384753 -55.980515   \n",
      "1254    -118.200226  -74.603256   56.515259   25.591745  18.567230   \n",
      "1255     -61.394890   65.160240   15.391336  -23.260284  58.401028   \n",
      "1256      69.641449   11.691484  -16.911049  -75.880478  -5.033840   \n",
      "1257     -91.025772 -127.372284    2.939847   23.373604  12.559493   \n",
      "1258      45.626713  -10.147279    5.997423   45.119408  68.858871   \n",
      "1259      54.210915   13.899187   42.617798   -1.814694   2.194777   \n",
      "1260     -92.451187  -43.595779   68.744705  -15.696192 -14.660721   \n",
      "1261      84.740402   -6.826206  -32.690754   88.063324 -84.423355   \n",
      "1262      12.955905  -31.454317   54.358482  -56.190781 -18.946846   \n",
      "1263      28.415619   71.722572  -36.074253  -92.526199  30.679031   \n",
      "1264     -24.338614  129.589233   30.549150    9.186489  -3.847835   \n",
      "1265      24.498709   -7.919827   61.175892  -32.103870  74.181053   \n",
      "1266      10.544439   66.347740   54.789345  -19.417536 -88.863121   \n",
      "1267      88.377274   79.773621   -9.500026  -53.878891  16.060904   \n",
      "1268      -7.821723   46.415535  -24.610361   -8.812980  -2.397153   \n",
      "1269     -45.181942  -43.407021  -15.803505   -3.854936 -10.080311   \n",
      "1270     -74.802963  138.545349  -48.208279   14.278784 -18.209631   \n",
      "1271     127.832977  -65.800354  107.561058  -40.919155 -98.844574   \n",
      "1272      34.647068   64.390198   73.791641  -36.820065  77.231049   \n",
      "1273      22.763050   80.946442  -99.055649   44.748028 -47.006557   \n",
      "1274     -80.358047   21.733219   57.087257   27.497591 -31.943407   \n",
      "1275     -60.388226   52.534054  -16.646816    2.551652  46.843674   \n",
      "1276     -18.569382   50.795624    8.656031 -119.874451  15.938076   \n",
      "1277      -8.846916   81.608978  -13.067690  -15.896040  58.641384   \n",
      "1278     111.227463   -9.334044   -3.217553  -65.067497  99.250587   \n",
      "1279    -102.507889   54.549911   66.129807   22.715395 -48.009029   \n",
      "\n",
      "           points_5   points_6    points_7  y  \n",
      "indices                                        \n",
      "0         -3.635932  29.955135   -2.063037  7  \n",
      "1        -53.083618  -9.017148  -42.286705  2  \n",
      "2          7.806838 -36.147476  -17.627708  1  \n",
      "3         13.803956  12.692743   19.936478  0  \n",
      "4        -37.350357 -28.278753   13.969290  4  \n",
      "5        -13.062585 -57.399406  -45.365547  1  \n",
      "6        -63.730461  29.796974  -28.256790  4  \n",
      "7         26.555288  10.771120   -4.516540  9  \n",
      "8        108.718430 -79.164398    9.492235  5  \n",
      "9         24.893852  19.801682  -30.976864  9  \n",
      "10        11.201986  -3.379311  -19.043570  0  \n",
      "11       -89.698456  46.418312  -66.310150  6  \n",
      "12        10.677004  -6.010442   -4.312090  9  \n",
      "13        41.526161 -24.487440  -16.983591  0  \n",
      "14       -37.807545 -27.229958   14.986507  1  \n",
      "15         4.750105  94.865410   12.181048  5  \n",
      "16        -1.131481   6.560850   36.712585  9  \n",
      "17        -3.782182  28.883820   14.017960  7  \n",
      "18       -73.067062  93.015144  -67.941811  3  \n",
      "19         5.252605 -35.160225  -12.610150  4  \n",
      "20        20.285910  11.295393  -34.097939  9  \n",
      "21        -8.750824  25.019304   41.154945  6  \n",
      "22       -80.019554  10.774843  -20.315571  6  \n",
      "23       119.910477 -27.804462  -11.156413  5  \n",
      "24       -14.348030   6.915408   -6.220002  4  \n",
      "25        63.092705 -24.990376 -107.064713  0  \n",
      "26         8.803397  15.803575   -3.989460  7  \n",
      "27       -23.738810 -46.358734   -5.398930  4  \n",
      "28       -31.164732 -34.008495   18.306129  0  \n",
      "29       -39.675217   2.635946   26.685410  1  \n",
      "...             ...        ...         ... ..  \n",
      "1250     -22.326773 -17.403797  -25.080051  6  \n",
      "1251     -11.849895 -35.941357  -64.404633  2  \n",
      "1252      33.888306  39.475784  -35.788498  5  \n",
      "1253     -58.340302 -15.440767  -16.548052  4  \n",
      "1254      32.813850  -1.964074   43.806049  1  \n",
      "1255     -10.401102  29.367098  -30.271992  9  \n",
      "1256      15.958397  38.676651   72.062500  2  \n",
      "1257     -11.935310  12.725968   22.341267  1  \n",
      "1258     -17.870106  51.726124   24.033035  5  \n",
      "1259      56.421764   3.071912  -31.400286  8  \n",
      "1260      60.464661  -3.199624   32.077126  7  \n",
      "1261      13.957197  33.093697   30.642698  0  \n",
      "1262      11.211252 -47.616146  -36.972332  2  \n",
      "1263     -48.099464 -83.514229   26.075605  4  \n",
      "1264      39.543823 -51.564468   -5.990070  4  \n",
      "1265       8.586325  -6.701855  -45.207436  3  \n",
      "1266     -11.711085 -85.290314    3.876735  6  \n",
      "1267      95.273544 -17.664356  -17.817574  8  \n",
      "1268      34.218834  81.268242  -34.369049  8  \n",
      "1269     -42.493874 -44.856937  -33.675350  2  \n",
      "1270      51.706970 -12.092456   39.142719  4  \n",
      "1271     -24.756577  47.212547   11.649972  0  \n",
      "1272    -113.983887  45.286388   -8.580295  5  \n",
      "1273      -1.226697  -0.326080  -19.337227  0  \n",
      "1274     -11.365425 -25.577036  -23.485737  4  \n",
      "1275     -31.297375 -24.317425  -18.070053  4  \n",
      "1276     -71.345673 -21.959278   42.112034  7  \n",
      "1277      -4.250271  26.502733    8.250311  9  \n",
      "1278      14.993172 -14.837144  -22.007790  3  \n",
      "1279     -27.022533  10.151763  -13.893858  4  \n",
      "\n",
      "[1280 rows x 9 columns]\n"
     ]
    }
   ],
   "source": [
    "learn.load('./mnist-simple')\n",
    "\n",
    "model = learn.model\n",
    "last_conv_layer = model[2][0] # get the last conv layer\n",
    "\n",
    "module_pca = PytorchModulePCA(model.eval(), last_conv_layer.eval(), learn.data.valid_dl)\n",
    "module_pca(k=8, n_batches=10) # run only on 4 batches\n",
    "# module_pca.plot() # plot\n",
    "# module_pca.annotate()\n",
    "# plt.savefig('./images/example')\n",
    "df = module_pca.state.to_df() # get the points as pandas df\n",
    "print(df)"
   ]
  },
  {
   "cell_type": "code",
   "execution_count": 80,
   "metadata": {},
   "outputs": [],
   "source": [
    "from sklearn.neighbors import KDTree"
   ]
  },
  {
   "cell_type": "code",
   "execution_count": 81,
   "metadata": {},
   "outputs": [],
   "source": [
    "X = module_pca.state.points.numpy()\n",
    "tree = KDTree(X)"
   ]
  },
  {
   "cell_type": "code",
   "execution_count": 82,
   "metadata": {},
   "outputs": [],
   "source": [
    "dist, ind = tree.query(X[:1], k=5)\n",
    "\n",
    "imgs = [module_pca.dataloader.dataset[i][0].permute(1, 2, 0).numpy().squeeze() for i in ind[0]]"
   ]
  },
  {
   "cell_type": "code",
   "execution_count": 84,
   "metadata": {},
   "outputs": [
    {
     "data": {
      "image/png": "[encoded data removed]",
      "text/plain": [
       "<Figure size 432x288 with 1 Axes>"
      ]
     },
     "metadata": {
      "needs_background": "light"
     },
     "output_type": "display_data"
    },
    {
     "data": {
      "image/png": "[encoded data removed]",
      "text/plain": [
       "<Figure size 432x288 with 1 Axes>"
      ]
     },
     "metadata": {
      "needs_background": "light"
     },
     "output_type": "display_data"
    },
    {
     "data": {
      "image/png": "[encoded data removed]",
      "text/plain": [
       "<Figure size 432x288 with 1 Axes>"
      ]
     },
     "metadata": {
      "needs_background": "light"
     },
     "output_type": "display_data"
    },
    {
     "data": {
      "image/png": "[encoded data removed]",
      "text/plain": [
       "<Figure size 432x288 with 1 Axes>"
      ]
     },
     "metadata": {
      "needs_background": "light"
     },
     "output_type": "display_data"
    },
    {
     "data": {
      "image/png": "[encoded data removed]",
      "text/plain": [
       "<Figure size 432x288 with 1 Axes>"
      ]
     },
     "metadata": {
      "needs_background": "light"
     },
     "output_type": "display_data"
    },
    {
     "data": {
      "image/png": "[encoded data removed]",
      "text/plain": [
       "<Figure size 432x288 with 1 Axes>"
      ]
     },
     "metadata": {
      "needs_background": "light"
     },
     "output_type": "display_data"
    }
   ],
   "source": [
    "fig = plt.figure()\n",
    "plt.title('Original')\n",
    "plt.imshow(module_pca.dataloader.dataset[0][0].permute(1, 2, 0).numpy().squeeze())\n",
    "plt.show()\n",
    "for d, img in zip(dist[0], imgs):\n",
    "    fig = plt.figure()\n",
    "    plt.title(f\"distance = {d}\")\n",
    "    plt.imshow(img)\n",
    "    plt.show()"
   ]
  },
  {
   "cell_type": "code",
   "execution_count": null,
   "metadata": {},
   "outputs": [],
   "source": []
  }
 ],
 "metadata": {
  "kernelspec": {
   "display_name": "Python 3",
   "language": "python",
   "name": "python3"
  },
  "language_info": {
   "codemirror_mode": {
    "name": "ipython",
    "version": 3
   },
   "file_extension": ".py",
   "mimetype": "text/x-python",
   "name": "python",
   "nbconvert_exporter": "python",
   "pygments_lexer": "ipython3",
   "version": "3.7.3"
  }
 },
 "nbformat": 4,
 "nbformat_minor": 2
}
