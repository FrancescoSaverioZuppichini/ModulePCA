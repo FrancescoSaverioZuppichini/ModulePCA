{
 "cells": [
  {
   "cell_type": "markdown",
   "metadata": {},
   "source": [
    "# Playground\n",
    "\n",
    "Used for testing on the fly new features"
   ]
  },
  {
   "cell_type": "code",
   "execution_count": 8,
   "metadata": {},
   "outputs": [
    {
     "name": "stdout",
     "output_type": "stream",
     "text": [
      "The autoreload extension is already loaded. To reload it, use:\n",
      "  %reload_ext autoreload\n"
     ]
    }
   ],
   "source": [
    "%load_ext autoreload\n",
    "%autoreload 2"
   ]
  },
  {
   "cell_type": "code",
   "execution_count": 52,
   "metadata": {
    "scrolled": true
   },
   "outputs": [],
   "source": [
    "import matplotlib.pyplot as plt\n",
    "\n",
    "from torchvision.transforms import ToTensor\n",
    "from torchvision.models import resnet18\n",
    "from torch.utils.data import DataLoader\n",
    "from torchvision.datasets import MNIST\n",
    "from PytorchModulePCA import PytorchModulePCA\n",
    "from PytorchModulePCA.utils import torch_img2numpy_img\n",
    "from fastai.vision import *\n",
    "from fastai.layers import simple_cnn\n",
    "\n",
    "device = torch.device('gpu' if torch.cuda.is_available() else 'cpu')\n",
    "TRAIN = False\n",
    "\n",
    "train_ds = MNIST(root='~/Documents/datasets/', download=True, transform=ToTensor())\n",
    "train_dl = DataLoader(train_ds, num_workers=14, batch_size=128, shuffle=True)\n",
    "test_ds = MNIST(root='~/Documents/datasets/', download=True, transform=ToTensor(), train=False)\n",
    "test_dl = DataLoader(test_ds, num_workers=14, batch_size=128, shuffle=False)\n",
    "\n",
    "data = ImageDataBunch(train_dl, test_dl) # create DataBunch\n",
    "\n",
    "model = simple_cnn((1, 16, 32, 10)).to(device) # a random model"
   ]
  },
  {
   "cell_type": "code",
   "execution_count": 13,
   "metadata": {},
   "outputs": [
    {
     "data": {
      "text/html": [
       "<table border=\"1\" class=\"dataframe\">\n",
       "  <thead>\n",
       "    <tr style=\"text-align: left;\">\n",
       "      <th>epoch</th>\n",
       "      <th>train_loss</th>\n",
       "      <th>valid_loss</th>\n",
       "      <th>accuracy</th>\n",
       "      <th>time</th>\n",
       "    </tr>\n",
       "  </thead>\n",
       "  <tbody>\n",
       "    <tr>\n",
       "      <td>0</td>\n",
       "      <td>0.825643</td>\n",
       "      <td>0.760996</td>\n",
       "      <td>0.765900</td>\n",
       "      <td>00:08</td>\n",
       "    </tr>\n",
       "    <tr>\n",
       "      <td>1</td>\n",
       "      <td>0.538773</td>\n",
       "      <td>0.501235</td>\n",
       "      <td>0.846000</td>\n",
       "      <td>00:08</td>\n",
       "    </tr>\n",
       "    <tr>\n",
       "      <td>2</td>\n",
       "      <td>0.443258</td>\n",
       "      <td>0.402794</td>\n",
       "      <td>0.881700</td>\n",
       "      <td>00:08</td>\n",
       "    </tr>\n",
       "    <tr>\n",
       "      <td>3</td>\n",
       "      <td>0.370200</td>\n",
       "      <td>0.342876</td>\n",
       "      <td>0.898900</td>\n",
       "      <td>00:07</td>\n",
       "    </tr>\n",
       "    <tr>\n",
       "      <td>4</td>\n",
       "      <td>0.340098</td>\n",
       "      <td>0.314016</td>\n",
       "      <td>0.908100</td>\n",
       "      <td>00:08</td>\n",
       "    </tr>\n",
       "    <tr>\n",
       "      <td>5</td>\n",
       "      <td>0.315592</td>\n",
       "      <td>0.312869</td>\n",
       "      <td>0.901900</td>\n",
       "      <td>00:08</td>\n",
       "    </tr>\n",
       "    <tr>\n",
       "      <td>6</td>\n",
       "      <td>0.282520</td>\n",
       "      <td>0.274477</td>\n",
       "      <td>0.918700</td>\n",
       "      <td>00:07</td>\n",
       "    </tr>\n",
       "    <tr>\n",
       "      <td>7</td>\n",
       "      <td>0.271231</td>\n",
       "      <td>0.250394</td>\n",
       "      <td>0.926800</td>\n",
       "      <td>00:07</td>\n",
       "    </tr>\n",
       "    <tr>\n",
       "      <td>8</td>\n",
       "      <td>0.265317</td>\n",
       "      <td>0.244827</td>\n",
       "      <td>0.929700</td>\n",
       "      <td>00:07</td>\n",
       "    </tr>\n",
       "    <tr>\n",
       "      <td>9</td>\n",
       "      <td>0.250189</td>\n",
       "      <td>0.239646</td>\n",
       "      <td>0.926300</td>\n",
       "      <td>00:07</td>\n",
       "    </tr>\n",
       "  </tbody>\n",
       "</table>"
      ],
      "text/plain": [
       "<IPython.core.display.HTML object>"
      ]
     },
     "metadata": {},
     "output_type": "display_data"
    }
   ],
   "source": [
    "learn = Learner(data, model, path='./', loss_func=CrossEntropyFlat())\n",
    "learn.metrics=[accuracy]\n",
    "# train and store\n",
    "if TRAIN:\n",
    "    learn.fit(10, lr=1e-03)\n",
    "    learn.save('mnist-simple', return_path=True)"
   ]
  },
  {
   "cell_type": "code",
   "execution_count": 66,
   "metadata": {
    "scrolled": false
   },
   "outputs": [
    {
     "data": {
      "application/vnd.jupyter.widget-view+json": {
       "model_id": "fbbbddc2e50e4a7fa06767b76e10b20b",
       "version_major": 2,
       "version_minor": 0
      },
      "text/plain": [
       "HBox(children=(IntProgress(value=1, bar_style='info', max=1), HTML(value='')))"
      ]
     },
     "metadata": {},
     "output_type": "display_data"
    },
    {
     "data": {
      "text/plain": [
       "<PytorchModulePCA.PytorchModulePCA.PytorchModulePCA at 0x1a2203b4e0>"
      ]
     },
     "execution_count": 66,
     "metadata": {},
     "output_type": "execute_result"
    }
   ],
   "source": [
    "learn.load('./mnist-simple')\n",
    "\n",
    "model = learn.model\n",
    "last_conv_layer = model[2][0] # get the last conv layer\n",
    "\n",
    "module_pca = PytorchModulePCA(model.eval(), last_conv_layer.eval(), learn.data.valid_dl)\n",
    "module_pca(k=8, n_batches=2) # run only on 4 batches\n",
    "# module_pca.plot() # plot\n",
    "# module_pca.annotate()\n",
    "# plt.savefig('./images/example')\n",
    "# df = module_pca.state.to_df() # get the points as pandas df\n",
    "# print(df)"
   ]
  },
  {
   "cell_type": "code",
   "execution_count": 71,
   "metadata": {},
   "outputs": [],
   "source": [
    "imgs, img, info = module_pca.query(10, 2)\n",
    "dist, _ = info"
   ]
  },
  {
   "cell_type": "code",
   "execution_count": 72,
   "metadata": {
    "scrolled": false
   },
   "outputs": [
    {
     "data": {
      "image/png": "[encoded data removed]",
      "text/plain": [
       "<Figure size 432x288 with 1 Axes>"
      ]
     },
     "metadata": {
      "needs_background": "light"
     },
     "output_type": "display_data"
    },
    {
     "data": {
      "image/png": "[encoded data removed]",
      "text/plain": [
       "<Figure size 432x288 with 1 Axes>"
      ]
     },
     "metadata": {
      "needs_background": "light"
     },
     "output_type": "display_data"
    },
    {
     "data": {
      "image/png": "[encoded data removed]",
      "text/plain": [
       "<Figure size 432x288 with 1 Axes>"
      ]
     },
     "metadata": {
      "needs_background": "light"
     },
     "output_type": "display_data"
    }
   ],
   "source": [
    "fig = plt.figure()\n",
    "plt.title('Original')\n",
    "plt.imshow(img)\n",
    "plt.show()\n",
    "for d, img in zip(dist[0], imgs):\n",
    "    fig = plt.figure()\n",
    "    plt.title(f\"distance = {d}\")\n",
    "    plt.imshow(img)\n",
    "    plt.show()"
   ]
  },
  {
   "cell_type": "code",
   "execution_count": null,
   "metadata": {},
   "outputs": [],
   "source": []
  }
 ],
 "metadata": {
  "kernelspec": {
   "display_name": "Python 3",
   "language": "python",
   "name": "python3"
  },
  "language_info": {
   "codemirror_mode": {
    "name": "ipython",
    "version": 3
   },
   "file_extension": ".py",
   "mimetype": "text/x-python",
   "name": "python",
   "nbconvert_exporter": "python",
   "pygments_lexer": "ipython3",
   "version": "3.7.3"
  }
 },
 "nbformat": 4,
 "nbformat_minor": 2
}
